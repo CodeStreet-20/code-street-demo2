{
 "cells": [
  {
   "cell_type": "markdown",
   "metadata": {},
   "source": [
    "# _Team Hack-eye_"
   ]
  },
  {
   "cell_type": "markdown",
   "metadata": {},
   "source": [
    "## Sentiment analysis on reviews to predict demand."
   ]
  },
  {
   "cell_type": "code",
   "execution_count": 1,
   "metadata": {},
   "outputs": [],
   "source": [
    "import numpy as np\n",
    "import pandas as pd\n",
    "import sklearn\n"
   ]
  },
  {
   "cell_type": "code",
   "execution_count": 2,
   "metadata": {},
   "outputs": [],
   "source": [
    "data = pd.read_csv('book_reviews.csv')\n",
    "m = len(data)\n",
    "data['label']= data.label.replace(['__label__2','__label__1'],[1,0])"
   ]
  },
  {
   "cell_type": "code",
   "execution_count": 3,
   "metadata": {},
   "outputs": [
    {
     "name": "stderr",
     "output_type": "stream",
     "text": [
      "[nltk_data] Downloading package stopwords to\n",
      "[nltk_data]     C:\\Users\\user\\AppData\\Roaming\\nltk_data...\n",
      "[nltk_data]   Package stopwords is already up-to-date!\n"
     ]
    },
    {
     "data": {
      "text/plain": [
       "True"
      ]
     },
     "execution_count": 3,
     "metadata": {},
     "output_type": "execute_result"
    }
   ],
   "source": [
    "## Cleaning the text\n",
    "import re\n",
    "import nltk\n",
    "\n",
    "# downloading the list of stopword\n",
    "nltk.download('stopwords')"
   ]
  },
  {
   "cell_type": "code",
   "execution_count": 4,
   "metadata": {},
   "outputs": [],
   "source": [
    "from nltk.corpus import stopwords\n",
    "from nltk.stem.porter import PorterStemmer\n",
    "\n",
    "corpus = []\n",
    "\n",
    "for i in range(0, m):\n",
    "    # getting rid of unwanted characters\n",
    "    review = re.sub('[^a-zA-Z]', ' ', data['text'][i])\n",
    "\n",
    "    #converting all the letters of the review into lowercase\n",
    "    review = review.lower()\n",
    "\n",
    "    # splitting every words from the sentences\n",
    "    review = review.split()\n",
    "\n",
    "    # applying stemming\n",
    "    ps = PorterStemmer()\n",
    "\n",
    "    # iterating through each words and checking if they are stopwords or not\n",
    "    # if they are stopwords we will not consider them furthermore\n",
    "    review = [ps.stem(word) for word in review if not word in set(stopwords.words('english'))]\n",
    "\n",
    "    # joining the review again\n",
    "    review = ' '.join(review)\n",
    "\n",
    "    corpus.append(review)"
   ]
  },
  {
   "cell_type": "code",
   "execution_count": 5,
   "metadata": {},
   "outputs": [],
   "source": [
    "#corpus"
   ]
  },
  {
   "cell_type": "code",
   "execution_count": 6,
   "metadata": {},
   "outputs": [],
   "source": [
    "# creating the count vectorizer model\n",
    "\n",
    "from sklearn.feature_extraction.text import CountVectorizer\n",
    "cv = CountVectorizer()\n",
    "\n",
    "# feeding the corpus data to the count vectorizer model\n",
    "x = cv.fit_transform(corpus).toarray()\n",
    "\n",
    "# maing the dependent variable column\n",
    "y = data.iloc[:, 1].values"
   ]
  },
  {
   "cell_type": "code",
   "execution_count": 7,
   "metadata": {},
   "outputs": [],
   "source": [
    "from sklearn.model_selection import train_test_split\n",
    "\n",
    "x_train, x_test, y_train, y_test = train_test_split(x, y, test_size = 0.25, random_state = 0)"
   ]
  },
  {
   "cell_type": "code",
   "execution_count": 8,
   "metadata": {},
   "outputs": [],
   "source": [
    "## Feature normalising\n",
    "\n",
    "from sklearn.preprocessing import MinMaxScaler\n",
    "\n",
    "# creating a min max scaler\n",
    "scaler = MinMaxScaler()\n",
    "\n",
    "# feeding the independent variables into the model\n",
    "x_train = scaler.fit_transform(x_train)\n",
    "x_test = scaler.transform(x_test)"
   ]
  },
  {
   "cell_type": "code",
   "execution_count": null,
   "metadata": {},
   "outputs": [],
   "source": [
    "# Applying suitable a Classification moldel\\\n",
    "from sklearn.neural_network import MLPClassifier\n",
    "from sklearn.metrics import confusion_matrix\n",
    "\n",
    "# creating the model\n",
    "model = MLPClassifier()\n",
    "\n",
    "# fitting the training data to the model\n",
    "model.fit(x_train, y_train)\n",
    "\n",
    "# predicting the test set results\n",
    "y_pred = model.predict(x_test)\n",
    "\n",
    "# checking the accuracies\n",
    "print(\"Training Accuracy :\", model.score(x_train, y_train))\n",
    "print(\"Testing Accuracy :\", model.score(x_test, y_test))\n",
    "print(\"Testing recall_score :\", sklearn.metrics.recall_score( y_test,y_pred))\n",
    "print(\"Testing precision_score :\", sklearn.metrics.precision_score(y_test,y_pred))\n"
   ]
  },
  {
   "cell_type": "code",
   "execution_count": null,
   "metadata": {},
   "outputs": [
    {
     "name": "stdout",
     "output_type": "stream",
     "text": [
      "# Tuning hyper-parameters for SVC\n",
      "\n"
     ]
    }
   ],
   "source": [
    "from sklearn.model_selection import GridSearchCV\n",
    "from sklearn.metrics import classification_report\n",
    "from sklearn.svm import SVC\n",
    "\n",
    "# Set the parameters by cross-validation\n",
    "tuned_parameters = [{'C': [1,10,100,1000], 'kernel': ['rbf'],'gamma': ['scale','auto', 0.00001, 0.0001, 0.001,0.01]},\n",
    "                    {'C': [1,10,100,1000], 'kernel': ['linear']},\n",
    "                    {'C': [1,10,100,1000], 'kernel': ['poly'],'degree': [2,3,5],'gamma': ['scale', 'auto', 0.00001,\n",
    "                                                                                          0.0001,0.001,0.01]},\n",
    "                    {'C': [1,10,100,1000], 'kernel': ['sigmoid'],'gamma': ['scale', 'auto', 0.00001, 0.0001, 0.001,0.01]}]          \n",
    "             \n",
    "\n",
    "print(\"# Tuning hyper-parameters for SVC\")\n",
    "print()\n",
    "\n",
    "clf = GridSearchCV(SVC(random_state = 0), tuned_parameters, scoring='accuracy', cv = 5)\n",
    "\n",
    "clf.fit(x_train, y_train)\n",
    "\n",
    "print(\"Best parameters set found on training set:\")\n",
    "print()\n",
    "print(clf.best_params_)\n",
    "print()\n",
    "print(\"Grid scores on training set:\")\n",
    "print()\n",
    "means = clf.cv_results_['mean_test_score']\n",
    "stds = clf.cv_results_['std_test_score']\n",
    "for mean, std, params in zip(means, stds, clf.cv_results_['params']):\n",
    "    print(\"%0.3f (+/-%0.03f) for %r\"\n",
    "            % (mean, std * 2, params))\n",
    "print()"
   ]
  },
  {
   "cell_type": "code",
   "execution_count": null,
   "metadata": {},
   "outputs": [],
   "source": [
    "from sklearn.svm import SVC\n",
    "from sklearn.metrics import confusion_matrix\n",
    "\n",
    "# creating the model\n",
    "model = SVC()\n",
    "\n",
    "# fitting the training data to the model\n",
    "model.fit(x_train, y_train)\n",
    "\n",
    "# predicting the test set results\n",
    "y_pred = model.predict(x_test)\n",
    "\n",
    "# checking the accuracies\n",
    "print(\"Training Accuracy :\", model.score(x_train, y_train))\n",
    "print(\"Testing Accuracy :\", model.score(x_test, y_test))\n"
   ]
  },
  {
   "cell_type": "code",
   "execution_count": null,
   "metadata": {},
   "outputs": [],
   "source": [
    "#fuction to predict sentiment_SVC\n",
    "def predict_sentiment(rev):\n",
    "    rev = re.sub('[^a-zA-Z]', ' ', rev)\n",
    "\n",
    "    rev = rev.lower()\n",
    "\n",
    "    # splitting every words from the sentences\n",
    "    rev = rev.split()\n",
    "\n",
    "    # applying stemming\n",
    "    ps = PorterStemmer()\n",
    "\n",
    "    # iterating through each words and checking if they are stopwords or not\n",
    "    # if they are stopwords we will not consider them furthermore\n",
    "    rev = [ps.stem(word) for word in rev if not word in set(stopwords.words('english'))]\n",
    "    #print(np.shape(rev))\n",
    "\n",
    "    # feeding the corpus data to the count vectorizer model\n",
    "    x = cv.fit_transform(corpus).toarray()\n",
    "    \n",
    "    x_rev = cv.transform(rev).toarray()\n",
    "    x_rev = sum(x_rev) #doubt\n",
    "    x_rev = x_rev.reshape(1, -1) #doubt\n",
    "    #print(x_rev)\n",
    "    #review = ' '.join(rev)\n",
    "    #print(np.shape(x_rev))\n",
    "    p = model_SVC.predict(x_rev)\n",
    "    if p==0:\n",
    "        print(\"Negative\")\n",
    "    else:\n",
    "        print(\"Positive\")\n",
    "    return"
   ]
  }
 ],
 "metadata": {
  "kernelspec": {
   "display_name": "Python 3",
   "language": "python",
   "name": "python3"
  },
  "language_info": {
   "codemirror_mode": {
    "name": "ipython",
    "version": 3
   },
   "file_extension": ".py",
   "mimetype": "text/x-python",
   "name": "python",
   "nbconvert_exporter": "python",
   "pygments_lexer": "ipython3",
   "version": "3.7.6"
  }
 },
 "nbformat": 4,
 "nbformat_minor": 4
}

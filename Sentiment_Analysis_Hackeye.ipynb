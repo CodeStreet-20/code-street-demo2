{
 "cells": [
  {
   "cell_type": "markdown",
   "metadata": {},
   "source": [
    "# _Team Hack-eye_"
   ]
  },
  {
   "cell_type": "markdown",
   "metadata": {},
   "source": [
    "## Sentiment analysis on reviews to predict demand."
   ]
  },
  {
   "cell_type": "code",
   "execution_count": 5,
   "metadata": {},
   "outputs": [],
   "source": [
    "import numpy as np\n",
    "import pandas as pd\n",
    "import sklearn\n"
   ]
  },
  {
   "cell_type": "code",
   "execution_count": 6,
   "metadata": {},
   "outputs": [],
   "source": [
    "data = pd.read_csv('book_reviews.csv')\n",
    "m = len(data)\n",
    "data['label']= data.label.replace(['__label__2','__label__1'],[1,0])"
   ]
  },
  {
   "cell_type": "code",
   "execution_count": 7,
   "metadata": {},
   "outputs": [
    {
     "name": "stderr",
     "output_type": "stream",
     "text": [
      "[nltk_data] Downloading package stopwords to C:\\Users\\PRITHVIRAJ\n",
      "[nltk_data]     SAHOO\\AppData\\Roaming\\nltk_data...\n",
      "[nltk_data]   Package stopwords is already up-to-date!\n"
     ]
    },
    {
     "data": {
      "text/plain": [
       "True"
      ]
     },
     "execution_count": 7,
     "metadata": {},
     "output_type": "execute_result"
    }
   ],
   "source": [
    "## Cleaning the text\n",
    "import re\n",
    "import nltk\n",
    "\n",
    "# downloading the list of stopword\n",
    "nltk.download('stopwords')"
   ]
  },
  {
   "cell_type": "code",
   "execution_count": 8,
   "metadata": {},
   "outputs": [],
   "source": [
    "from nltk.corpus import stopwords\n",
    "from nltk.stem.porter import PorterStemmer\n",
    "\n",
    "corpus = []\n",
    "\n",
    "for i in range(0, m):\n",
    "    # getting rid of unwanted characters\n",
    "    review = re.sub('[^a-zA-Z]', ' ', data['text'][i])\n",
    "\n",
    "    #converting all the letters of the review into lowercase\n",
    "    review = review.lower()\n",
    "\n",
    "    # splitting every words from the sentences\n",
    "    review = review.split()\n",
    "\n",
    "    # applying stemming\n",
    "    ps = PorterStemmer()\n",
    "\n",
    "    # iterating through each words and checking if they are stopwords or not\n",
    "    # if they are stopwords we will not consider them furthermore\n",
    "    review = [ps.stem(word) for word in review if not word in set(stopwords.words('english'))]\n",
    "\n",
    "    # joining the review again\n",
    "    review = ' '.join(review)\n",
    "\n",
    "    corpus.append(review)"
   ]
  },
  {
   "cell_type": "code",
   "execution_count": 9,
   "metadata": {},
   "outputs": [],
   "source": [
    "# creating the count vectorizer model\n",
    "\n",
    "from sklearn.feature_extraction.text import CountVectorizer\n",
    "cv = CountVectorizer()\n",
    "\n",
    "# feeding the corpus data to the count vectorizer model\n",
    "x = cv.fit_transform(corpus).toarray()\n",
    "\n",
    "# maing the dependent variable column\n",
    "y = data.iloc[:, 1].values"
   ]
  },
  {
   "cell_type": "code",
   "execution_count": 10,
   "metadata": {},
   "outputs": [],
   "source": [
    "from sklearn.model_selection import train_test_split\n",
    "\n",
    "x_train, x_test, y_train, y_test = train_test_split(x, y, test_size = 0.25, random_state = 0)"
   ]
  },
  {
   "cell_type": "code",
   "execution_count": 11,
   "metadata": {},
   "outputs": [],
   "source": [
    "## Feature normalising\n",
    "\n",
    "from sklearn.preprocessing import MinMaxScaler\n",
    "\n",
    "# creating a min max scaler\n",
    "scaler = MinMaxScaler()\n",
    "\n",
    "# feeding the independent variables into the model\n",
    "x_train = scaler.fit_transform(x_train)\n",
    "x_test = scaler.transform(x_test)"
   ]
  },
  {
   "cell_type": "code",
   "execution_count": 12,
   "metadata": {},
   "outputs": [
    {
     "data": {
      "text/plain": [
       "(702, 10238)"
      ]
     },
     "execution_count": 12,
     "metadata": {},
     "output_type": "execute_result"
    }
   ],
   "source": [
    "np.shape(x_test)"
   ]
  },
  {
   "cell_type": "code",
   "execution_count": 13,
   "metadata": {},
   "outputs": [
    {
     "name": "stdout",
     "output_type": "stream",
     "text": [
      "Training Accuracy : 1.0\n",
      "Testing Accuracy : 0.811965811965812\n",
      "Testing recall_score : 0.7941176470588235\n",
      "Testing precision_score : 0.7788461538461539\n"
     ]
    }
   ],
   "source": [
    "# Applying suitable a Classification moldel\\\n",
    "from sklearn.neural_network import MLPClassifier\n",
    "from sklearn.metrics import confusion_matrix\n",
    "\n",
    "# creating the model\n",
    "model = MLPClassifier()\n",
    "\n",
    "# fitting the training data to the model\n",
    "model.fit(x_train, y_train)\n",
    "\n",
    "# predicting the test set results\n",
    "y_pred = model.predict(x_test)\n",
    "\n",
    "# checking the accuracies\n",
    "print(\"Training Accuracy :\", model.score(x_train, y_train))\n",
    "print(\"Testing Accuracy :\", model.score(x_test, y_test))\n",
    "print(\"Testing recall_score :\", sklearn.metrics.recall_score( y_test,y_pred))\n",
    "print(\"Testing precision_score :\", sklearn.metrics.precision_score(y_test,y_pred))\n"
   ]
  },
  {
   "cell_type": "code",
   "execution_count": 14,
   "metadata": {},
   "outputs": [
    {
     "name": "stdout",
     "output_type": "stream",
     "text": [
      "Training Accuracy : 0.9890788224121557\n",
      "Testing Accuracy : 0.8148148148148148\n"
     ]
    }
   ],
   "source": [
    "from sklearn.svm import SVC\n",
    "from sklearn.metrics import confusion_matrix\n",
    "\n",
    "# creating the model\n",
    "model_SVC = SVC()\n",
    "\n",
    "# fitting the training data to the model\n",
    "model_SVC.fit(x_train, y_train)\n",
    "\n",
    "# predicting the test set results\n",
    "y_pred = model_SVC.predict(x_test)\n",
    "\n",
    "# checking the accuracies\n",
    "print(\"Training Accuracy :\", model_SVC.score(x_train, y_train))\n",
    "print(\"Testing Accuracy :\", model_SVC.score(x_test, y_test))\n"
   ]
  },
  {
   "cell_type": "code",
   "execution_count": 15,
   "metadata": {},
   "outputs": [],
   "source": [
    "def predict_sentiment(rev):\n",
    "    rev = re.sub('[^a-zA-Z]', ' ', rev)\n",
    "\n",
    "    rev = rev.lower()\n",
    "\n",
    "    # splitting every words from the sentences\n",
    "    rev = rev.split()\n",
    "\n",
    "    # applying stemming\n",
    "    ps = PorterStemmer()\n",
    "\n",
    "    # iterating through each words and checking if they are stopwords or not\n",
    "    # if they are stopwords we will not consider them furthermore\n",
    "    rev = [ps.stem(word) for word in rev if not word in set(stopwords.words('english'))]\n",
    "    #print(np.shape(rev))\n",
    "\n",
    "    # feeding the corpus data to the count vectorizer model\n",
    "    x = cv.fit_transform(corpus).toarray()\n",
    "    \n",
    "    x_rev = cv.transform(rev).toarray()\n",
    "    x_rev = sum(x_rev) #doubt\n",
    "    x_rev = x_rev.reshape(1, -1) #doubt\n",
    "    #print(x_rev)\n",
    "    #review = ' '.join(rev)\n",
    "    #print(np.shape(x_rev))\n",
    "    p = model_SVC.predict(x_rev)\n",
    "    if p==0:\n",
    "        print(\"Negative\")\n",
    "    else:\n",
    "        print(\"Positive\")\n",
    "    return "
   ]
  },
  {
   "cell_type": "code",
   "execution_count": 21,
   "metadata": {},
   "outputs": [
    {
     "name": "stdout",
     "output_type": "stream",
     "text": [
      "Positive\n"
     ]
    }
   ],
   "source": [
    "predict_sentiment(\" The book is too good.\")"
   ]
  },
  {
   "cell_type": "code",
   "execution_count": 19,
   "metadata": {},
   "outputs": [
    {
     "name": "stdout",
     "output_type": "stream",
     "text": [
      "Negative\n"
     ]
    }
   ],
   "source": [
    "predict_sentiment(\" The glass is half empty.\")"
   ]
  },
  {
   "cell_type": "code",
   "execution_count": null,
   "metadata": {},
   "outputs": [],
   "source": []
  }
 ],
 "metadata": {
  "kernelspec": {
   "display_name": "Python 3",
   "language": "python",
   "name": "python3"
  },
  "language_info": {
   "codemirror_mode": {
    "name": "ipython",
    "version": 3
   },
   "file_extension": ".py",
   "mimetype": "text/x-python",
   "name": "python",
   "nbconvert_exporter": "python",
   "pygments_lexer": "ipython3",
   "version": "3.7.6"
  }
 },
 "nbformat": 4,
 "nbformat_minor": 4
}
